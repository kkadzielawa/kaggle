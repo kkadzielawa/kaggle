{
 "cells": [
  {
   "cell_type": "code",
   "execution_count": 1,
   "id": "aefac19a-e6c2-42c5-a183-293fab55ef0e",
   "metadata": {
    "tags": []
   },
   "outputs": [],
   "source": [
    "import os\n",
    "\n",
    "\n",
    "import pandas as pd\n",
    "import numpy as np"
   ]
  },
  {
   "cell_type": "code",
   "execution_count": 13,
   "id": "9761ba59-f471-46c9-8bed-ea6904878af0",
   "metadata": {
    "tags": []
   },
   "outputs": [],
   "source": [
    "#change current path to files\n",
    "os.chdir('C:\\\\Users\\\\Konrad-PC\\\\Desktop\\\\projects\\\\kaggle\\\\data\\\\amp-pd')"
   ]
  },
  {
   "cell_type": "code",
   "execution_count": 14,
   "id": "cf782cf8-4024-41e1-83a5-9419a2cd273e",
   "metadata": {
    "tags": []
   },
   "outputs": [],
   "source": [
    "#clinical data\n",
    "train_cd = pd.read_csv('train_clinical_data.csv')\n",
    "\n",
    "#proteins\n",
    "train_prot = pd.read_csv('train_proteins.csv')\n",
    "\n",
    "#peptides\n",
    "train_pep = pd.read_csv('train_peptides.csv')"
   ]
  },
  {
   "cell_type": "code",
   "execution_count": null,
   "id": "08da283c-20b6-4a9e-8950-a1a9c8427edb",
   "metadata": {},
   "outputs": [],
   "source": []
  },
  {
   "cell_type": "code",
   "execution_count": null,
   "id": "80c96c36-168b-4caf-92e5-785ecbe94e73",
   "metadata": {},
   "outputs": [],
   "source": []
  },
  {
   "cell_type": "code",
   "execution_count": null,
   "id": "41611f73-18e8-473c-9ed4-0adcb1191143",
   "metadata": {},
   "outputs": [],
   "source": []
  },
  {
   "cell_type": "code",
   "execution_count": null,
   "id": "f058251c-1485-42a0-af87-97a6b9c4bd07",
   "metadata": {},
   "outputs": [],
   "source": []
  },
  {
   "cell_type": "code",
   "execution_count": null,
   "id": "6b8b6b7b-d949-453a-9cc9-ef80e176d40c",
   "metadata": {},
   "outputs": [],
   "source": []
  }
 ],
 "metadata": {
  "kernelspec": {
   "display_name": "Python 3 (ipykernel)",
   "language": "python",
   "name": "python3"
  },
  "language_info": {
   "codemirror_mode": {
    "name": "ipython",
    "version": 3
   },
   "file_extension": ".py",
   "mimetype": "text/x-python",
   "name": "python",
   "nbconvert_exporter": "python",
   "pygments_lexer": "ipython3",
   "version": "3.8.6"
  }
 },
 "nbformat": 4,
 "nbformat_minor": 5
}
